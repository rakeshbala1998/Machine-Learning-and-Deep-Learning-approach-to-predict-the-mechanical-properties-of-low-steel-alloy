{
 "cells": [
  {
   "cell_type": "code",
   "execution_count": null,
   "id": "a9adaae6",
   "metadata": {},
   "outputs": [],
   "source": [
    "import numpy as np\n",
    "import pandas as pd\n",
    "import matplotlib.pyplot as plt\n",
    "import seaborn as sns \n",
    "from sklearn.model_selection import train_test_split\n",
    "from sklearn.linear_model import LinearRegression\n",
    "from sklearn import metrics\n",
    "from sklearn.preprocessing import StandardScaler\n",
    "from sklearn.linear_model import Ridge\n",
    "from sklearn.linear_model import RidgeCV\n",
    "from sklearn.linear_model import Lasso\n",
    "from sklearn.linear_model import MultiTaskLassoCV\n",
    "from sklearn.ensemble import RandomForestRegressor\n",
    "from sklearn.neighbors import KNeighborsRegressor\n",
    "!pip install tensorflow\n",
    "!pip install keras\n",
    "from keras.models import Sequential\n",
    "from keras.layers import Dense, Dropout\n",
    "from sklearn.preprocessing import MinMaxScaler"
   ]
  },
  {
   "cell_type": "code",
   "execution_count": null,
   "id": "dc7c0b3d",
   "metadata": {},
   "outputs": [],
   "source": [
    "pwd()"
   ]
  },
  {
   "cell_type": "code",
   "execution_count": 70,
   "id": "f175c311",
   "metadata": {},
   "outputs": [],
   "source": [
    "#READ THE DATASET \n",
    "df=pd.read_csv(\"D:\\ML FINAL PROJECT\\MatNavi Mechanical properties of low-alloy steels.csv\")"
   ]
  },
  {
   "cell_type": "code",
   "execution_count": null,
   "id": "f3985780",
   "metadata": {},
   "outputs": [],
   "source": [
    "#DATA EXPLORATION \n",
    "df.head()"
   ]
  },
  {
   "cell_type": "code",
   "execution_count": null,
   "id": "ef282d67",
   "metadata": {},
   "outputs": [],
   "source": [
    "df.info()"
   ]
  },
  {
   "cell_type": "code",
   "execution_count": null,
   "id": "e442b6cf",
   "metadata": {},
   "outputs": [],
   "source": [
    "df.value_counts(df[\"Alloy code\"])"
   ]
  },
  {
   "cell_type": "code",
   "execution_count": 74,
   "id": "a6f7e00a",
   "metadata": {},
   "outputs": [],
   "source": [
    "df1=df.drop(['Alloy code'],axis=1)"
   ]
  },
  {
   "cell_type": "code",
   "execution_count": null,
   "id": "541a4d91",
   "metadata": {},
   "outputs": [],
   "source": [
    "#Data visualisation \n",
    "plt.subplots(figsize=(20,15))\n",
    "sns.heatmap(df1.corr(),annot=True)\n",
    "\n"
   ]
  },
  {
   "cell_type": "code",
   "execution_count": 61,
   "id": "ae035b36",
   "metadata": {},
   "outputs": [],
   "source": [
    "materials = df.iloc[:, 1:16]\n",
    "properties = df.iloc[:, 16:]"
   ]
  },
  {
   "cell_type": "code",
   "execution_count": null,
   "id": "bce580e4",
   "metadata": {},
   "outputs": [],
   "source": [
    "print(materials)"
   ]
  },
  {
   "cell_type": "code",
   "execution_count": 51,
   "id": "c553ef37",
   "metadata": {},
   "outputs": [],
   "source": [
    "materials['temp_sq']=np.power(materials.iloc[:,14],2)"
   ]
  },
  {
   "cell_type": "code",
   "execution_count": null,
   "id": "45953aac",
   "metadata": {},
   "outputs": [],
   "source": [
    "print(materials)"
   ]
  },
  {
   "cell_type": "code",
   "execution_count": null,
   "id": "6e58839d",
   "metadata": {},
   "outputs": [],
   "source": [
    "print(properties)"
   ]
  },
  {
   "cell_type": "code",
   "execution_count": 64,
   "id": "0d9d858b",
   "metadata": {},
   "outputs": [],
   "source": [
    "#SPLITING THE DATA \n",
    "materials_train,materials_test,properties_train,properties_test=train_test_split(materials,properties, test_size=0.2, shuffle=True)"
   ]
  },
  {
   "cell_type": "markdown",
   "id": "b0ca898f",
   "metadata": {},
   "source": [
    "## 1.Linear Regression "
   ]
  },
  {
   "cell_type": "code",
   "execution_count": null,
   "id": "af60fb7c",
   "metadata": {},
   "outputs": [],
   "source": [
    "#Full Model fiting without scaling \n",
    "lm=LinearRegression()\n",
    "lm.fit(materials_train,properties_train)"
   ]
  },
  {
   "cell_type": "code",
   "execution_count": 66,
   "id": "d33e5429",
   "metadata": {},
   "outputs": [],
   "source": [
    "#Prediction \n",
    "properties_lm_pred=lm.predict(materials_test)"
   ]
  },
  {
   "cell_type": "code",
   "execution_count": null,
   "id": "176de55e",
   "metadata": {},
   "outputs": [],
   "source": [
    "#Fitting Accuracy \n",
    "print('RMSE:', np.sqrt(metrics.mean_squared_error(properties_test,properties_lm_pred)))"
   ]
  },
  {
   "cell_type": "code",
   "execution_count": 21,
   "id": "3c248a34",
   "metadata": {},
   "outputs": [],
   "source": [
    "# To be used later while visualizing results\n",
    "actual_proof_strength = np.transpose(properties_test.iloc[:,0])\n",
    "actual_tensile_strength = np.transpose(properties_test.iloc[:,1])\n",
    "actual_pct_elongation = np.transpose(properties_test.iloc[:,2])\n",
    "actual_pct_reduction_area = np.transpose(properties_test.iloc[:,3])"
   ]
  },
  {
   "cell_type": "code",
   "execution_count": 22,
   "id": "bc9c4347",
   "metadata": {},
   "outputs": [],
   "source": [
    "# Visualizing the accuracy of predicted values\n",
    "lr_predicted_proof_strength = np.transpose(properties_lm_pred)[0]\n",
    "lr_predicted_tensile_strength = np.transpose(properties_lm_pred)[1]\n",
    "lr_predicted_pct_elongation = np.transpose(properties_lm_pred)[2]\n",
    "lr_predicted_pct_reduction_area = np.transpose(properties_lm_pred)[3]"
   ]
  },
  {
   "cell_type": "code",
   "execution_count": null,
   "id": "6a61ccdb",
   "metadata": {},
   "outputs": [],
   "source": [
    "print('RMSE of proof strength:', np.sqrt(metrics.mean_squared_error(actual_proof_strength,lr_predicted_proof_strength)))\n",
    "print('RMSE of tensile strength:', np.sqrt(metrics.mean_squared_error(actual_tensile_strength,lr_predicted_tensile_strength)))\n",
    "print('RMSE of pct_elongation:', np.sqrt(metrics.mean_squared_error(actual_pct_elongation,lr_predicted_pct_elongation)))\n",
    "print('RMSE of pct_reduction:', np.sqrt(metrics.mean_squared_error(actual_pct_reduction_area,lr_predicted_pct_reduction_area)))"
   ]
  },
  {
   "cell_type": "code",
   "execution_count": null,
   "id": "e37bc3d6",
   "metadata": {
    "scrolled": true
   },
   "outputs": [],
   "source": [
    "#Plotting the fiting \n",
    "fig, axs = plt.subplots(2,2, figsize=(10,10))\n",
    "\n",
    "\n",
    "axs[0,0].scatter(lr_predicted_proof_strength,actual_proof_strength, color = 'red', s=18)\n",
    "x3 = np.linspace(0,700, 1000)\n",
    "y3 = x3\n",
    "axs[0,0].plot(x3, y3)\n",
    "\n",
    "#some confidence interval\n",
    "ci = 1.96 * np.std(y3)/np.sqrt(len(x3))\n",
    "print(ci)\n",
    "axs[0,0].fill_between(x3, (y3-ci), (y3+ci), color='b', alpha=.1)\n",
    "\n",
    "axs[0,0].set_title('0.2% Proof Strength', fontsize = 20)\n",
    "axs[0,0].set_xlabel('predicted proof strength', fontsize = 14)\n",
    "axs[0,0].set_ylabel('actual proof strength', fontsize = 14)\n",
    "\n",
    "axs[0,1].scatter(lr_predicted_tensile_strength, actual_tensile_strength, color = 'red', s=18)\n",
    "x4 = np.linspace(200, 900, 1000)\n",
    "y4 = x4\n",
    "axs[0,1].plot(x4, y4)\n",
    "\n",
    "#some confidence interval\n",
    "ci = 1.96 * np.std(y4)/np.sqrt(len(x4))\n",
    "axs[0,1].fill_between(x4, (y4-ci), (y4+ci), color='b', alpha=.1)\n",
    "\n",
    "axs[0,1].set_title('Tensile Strength', fontsize = 20)\n",
    "axs[0,1].set_xlabel('predicted tensile strength', fontsize = 14)\n",
    "axs[0,1].set_ylabel('actual tensile strength', fontsize = 14)\n",
    "\n",
    "axs[1,0].scatter(lr_predicted_pct_elongation, actual_pct_elongation, color = 'red', s=18)\n",
    "x5 = np.linspace(0,50, 1000 )\n",
    "y5 = x5\n",
    "axs[1,0].plot(x5, y5)\n",
    "\n",
    "#some confidence interval\n",
    "ci = 1.96 * np.std(y5)/np.sqrt(len(x5))\n",
    "axs[1,0].fill_between(x5, (y5-ci), (y5+ci), color='b', alpha=.1)\n",
    "\n",
    "axs[1,0].set_title('% Elongation', fontsize = 20)\n",
    "axs[1,0].set_xlabel('predicted Elongation', fontsize = 14)\n",
    "axs[1,0].set_ylabel('actual Elongation', fontsize = 14)\n",
    "\n",
    "axs[1,1].scatter(lr_predicted_pct_reduction_area, actual_pct_reduction_area, color = 'red', s=18)\n",
    "x6 = np.linspace(40, 100,1000 )\n",
    "y6 = x6\n",
    "axs[1,1].plot(x6, y6)\n",
    "\n",
    "#some confidence interval\n",
    "ci = 1.96 * np.std(y6)/np.sqrt(len(x6))\n",
    "axs[1,1].fill_between(x6, (y6-ci), (y6+ci), color='b', alpha=.1)\n",
    "\n",
    "axs[1,1].set_title('% Reducton in Area', fontsize = 20)\n",
    "axs[1,1].set_xlabel('predicted reduction area', fontsize = 14)\n",
    "axs[1,1].set_ylabel('actual reduction area', fontsize = 14)\n",
    "\n",
    "fig.tight_layout()\n",
    "plt.show()\n",
    "\n"
   ]
  },
  {
   "cell_type": "markdown",
   "id": "fadc3d08",
   "metadata": {},
   "source": [
    "## 1.1 Linear Regression with scaled features"
   ]
  },
  {
   "cell_type": "code",
   "execution_count": 25,
   "id": "21f7ce3d",
   "metadata": {},
   "outputs": [],
   "source": [
    "# scaling\n",
    "sc_materials = StandardScaler()\n",
    "sc_materials.fit(materials_train)\n",
    "materials_train_sc = sc_materials.transform(materials_train)\n",
    "materials_test_sc = sc_materials.transform(materials_test)\n",
    "\n",
    "sc_properties = StandardScaler()\n",
    "sc_properties.fit(properties_train)\n",
    "properties_train_sc = sc_properties.transform(properties_train)\n",
    "properties_test_sc = sc_properties.transform(properties_test)\n"
   ]
  },
  {
   "cell_type": "code",
   "execution_count": null,
   "id": "dc438516",
   "metadata": {},
   "outputs": [],
   "source": [
    "materials_train_sc"
   ]
  },
  {
   "cell_type": "code",
   "execution_count": 27,
   "id": "92df6838",
   "metadata": {},
   "outputs": [],
   "source": [
    "sc_lm=LinearRegression()"
   ]
  },
  {
   "cell_type": "code",
   "execution_count": 28,
   "id": "f0306fc5",
   "metadata": {},
   "outputs": [],
   "source": [
    "sc_lm.fit(materials_train_sc, properties_train_sc)\n",
    "properties_lmsc_pred = sc_lm.predict(materials_test_sc)"
   ]
  },
  {
   "cell_type": "code",
   "execution_count": null,
   "id": "954bdc6c",
   "metadata": {},
   "outputs": [],
   "source": [
    "for i in range (0,4,1):\n",
    "    plt.scatter(properties_lmsc_pred[:,i],properties_test_sc[:,i],s=4)\n",
    "    x3 = np.linspace(-2,2, 1000)\n",
    "    y3 = x3\n",
    "    plt.plot(x3, y3,c='r')\n",
    "    plt.show()\n",
    "    print('RSME',str(i),'=',np.sqrt(metrics.mean_squared_error(properties_lmsc_pred[:,i],properties_test_sc[:,i])))"
   ]
  },
  {
   "cell_type": "code",
   "execution_count": null,
   "id": "707984e7",
   "metadata": {},
   "outputs": [],
   "source": [
    "from sklearn import metrics# Determining the model's accuracy\n",
    "mse_lm_sc =metrics.mean_squared_error(properties_test_sc, properties_lmsc_pred)\n",
    "print('mean_squared_error = ' + str(round(mse_lm_sc, 2)) + '    Lower is better')\n",
    "mse_lm_sc =np.sqrt(metrics.mean_squared_error(properties_test_sc, properties_lmsc_pred))\n",
    "print('Root mean_squared_error = ' + str(round(mse_lm_sc, 2)) + '    Lower is better')"
   ]
  },
  {
   "cell_type": "markdown",
   "id": "431d4f0d",
   "metadata": {},
   "source": [
    "\n",
    "# 1.3 Linear Regression with Regularization\n"
   ]
  },
  {
   "cell_type": "code",
   "execution_count": null,
   "id": "b4c97bab",
   "metadata": {},
   "outputs": [],
   "source": [
    "#SPLITING THE DATA \n",
    "materials_train,materials_test,properties_train,properties_test=train_test_split(materials,properties, test_size=0.2, shuffle=True)"
   ]
  },
  {
   "cell_type": "code",
   "execution_count": null,
   "id": "2bdcc3c0",
   "metadata": {},
   "outputs": [],
   "source": [
    "# scaling\n",
    "sc_materials = StandardScaler()\n",
    "sc_materials.fit(materials_train)\n",
    "materials_train_sc = sc_materials.transform(materials_train)\n",
    "materials_test_sc = sc_materials.transform(materials_test)\n",
    "\n",
    "sc_properties = StandardScaler()\n",
    "sc_properties.fit(properties_train)\n",
    "properties_train_sc = sc_properties.transform(properties_train)\n",
    "properties_test_sc = sc_properties.transform(properties_test)"
   ]
  },
  {
   "cell_type": "code",
   "execution_count": null,
   "id": "0b91f903",
   "metadata": {},
   "outputs": [],
   "source": [
    "lr = LinearRegression()\n",
    "lr.fit(materials_train_sc, properties_train_sc)\n",
    "rr = Ridge(alpha=0.01) \n",
    "# higher the alpha value, more restriction on the coefficients; low alpha > more generalization,\n",
    "# in this case linear and ridge regression resembles\n",
    "rr.fit(materials_train_sc, properties_train_sc)\n",
    "rr100 = RidgeCV(alphas=100) #  comparison with alpha value\n",
    "rr100.fit(materials_train_sc, properties_train_sc)\n",
    "train_score=lr.score(materials_train_sc, properties_train_sc)\n",
    "test_score=lr.score(materials_test_sc, properties_test_sc)\n",
    "Ridge_train_score = rr.score(materials_train_sc, properties_train_sc)\n",
    "Ridge_test_score = rr.score(materials_test_sc, properties_test_sc)\n",
    "Ridge_train_score100 = rr100.score(materials_train_sc, properties_train_sc)\n",
    "Ridge_test_score100 = rr100.score(materials_test_sc, properties_test_sc)\n",
    "print(rr.coef_)\n",
    "lasso001 = Lasso(alpha=0.01, max_iter=10e5)\n",
    "lasso001.fit(materials_train_sc, properties_train_sc)\n",
    "lasso100 = Lasso(alpha=100, max_iter=10e5)\n",
    "lasso100.fit(materials_train_sc, properties_train_sc)\n",
    "\n",
    "plt.plot(rr.coef_[1,:],linestyle='none',marker='d',markersize=5,color='red',label=r'Ridge; $\\alpha = 0.01$',zorder=7) \n",
    "plt.plot(rr100.coef_[1,:],linestyle='none',marker='d',markersize=6,color='blue',label=r'Ridge; $\\alpha = 100$') \n",
    "plt.plot(lr.coef_[1,:],linestyle='none',marker='o',markersize=7,color='green',label='Linear Regression')\n",
    "plt.plot(lasso001.coef_[1,:],linestyle='none',marker='*',markersize=6,color='red',label=r'Lasso; $\\alpha = 0.01$')\n",
    "plt.plot(lasso100.coef_[1,:],linestyle='none',marker='*',markersize=6,color='blue',label=r'Lasso; $\\alpha = 100$')\n",
    "plt.xlabel('Coefficient Index',fontsize=16)\n",
    "plt.ylabel('Coefficient Magnitude',fontsize=16)\n",
    "plt.legend(fontsize=8,loc=3)\n",
    "plt.show()"
   ]
  },
  {
   "cell_type": "markdown",
   "id": "84077637",
   "metadata": {},
   "source": [
    "## NN"
   ]
  },
  {
   "cell_type": "code",
   "execution_count": 35,
   "id": "2e637db5",
   "metadata": {},
   "outputs": [],
   "source": [
    "## Neural Nets\n",
    "# Building the Neural Network\n",
    "\n",
    "model = Sequential()\n",
    "model.add(Dense(units = 15, kernel_initializer = 'normal', activation = 'tanh', input_dim = 15))\n",
    "\n",
    "model.add(Dense(units = 4, kernel_initializer = 'normal', activation = 'tanh'))\n",
    "\n",
    "model.compile(optimizer = 'rmsprop', loss = 'mean_squared_error', metrics = ['mean_squared_error'])"
   ]
  },
  {
   "cell_type": "code",
   "execution_count": null,
   "id": "fa557187",
   "metadata": {},
   "outputs": [],
   "source": [
    "nn_fit = model.fit(materials_train_sc, properties_train_sc, batch_size = 100, shuffle=True, epochs = 5000)"
   ]
  },
  {
   "cell_type": "code",
   "execution_count": 37,
   "id": "c1523f66",
   "metadata": {},
   "outputs": [],
   "source": [
    "properties_nn_pred = model.predict(materials_test_sc)"
   ]
  },
  {
   "cell_type": "code",
   "execution_count": null,
   "id": "d6203cd9",
   "metadata": {},
   "outputs": [],
   "source": [
    "# Determining the model's accuracy\n",
    "mse_nn = np.sqrt(metrics.mean_squared_error(properties_test_sc, properties_nn_pred))\n",
    "print('mean_squared_error = ' + str(round(mse_nn, 2)) + '    Lower is better')\n"
   ]
  },
  {
   "cell_type": "code",
   "execution_count": null,
   "id": "6b607b0a",
   "metadata": {},
   "outputs": [],
   "source": [
    "pip3 install keras\n",
    "pip3 install ann_visualizer\n",
    "pip install graphviz\n"
   ]
  },
  {
   "cell_type": "markdown",
   "id": "24937fce",
   "metadata": {},
   "source": [
    "## extra parameters"
   ]
  },
  {
   "cell_type": "code",
   "execution_count": null,
   "id": "cd976dd6",
   "metadata": {},
   "outputs": [],
   "source": [
    "materials_train,materials_test,properties_train,properties_test=train_test_split(materials_extra,properties, test_size=0.2, shuffle=True)"
   ]
  },
  {
   "cell_type": "code",
   "execution_count": null,
   "id": "3a2548f9",
   "metadata": {},
   "outputs": [],
   "source": [
    "# scaling\n",
    "sc_materials = StandardScaler()\n",
    "sc_materials.fit(materials_train)\n",
    "materials_train_sc = sc_materials.transform(materials_train)\n",
    "materials_test_sc = sc_materials.transform(materials_test)\n",
    "\n",
    "sc_properties = StandardScaler()\n",
    "sc_properties.fit(properties_train)\n",
    "properties_train_sc = sc_properties.transform(properties_train)\n",
    "properties_test_sc = sc_properties.transform(properties_test)"
   ]
  },
  {
   "cell_type": "code",
   "execution_count": null,
   "id": "a8d46805",
   "metadata": {},
   "outputs": [],
   "source": [
    "sc_lm=LinearRegression()"
   ]
  },
  {
   "cell_type": "code",
   "execution_count": null,
   "id": "66eb3bef",
   "metadata": {},
   "outputs": [],
   "source": [
    "sc_lm.fit(materials_train_sc, properties_train_sc)\n",
    "properties_lmsc_pred = sc_lm.predict(materials_test_sc)"
   ]
  },
  {
   "cell_type": "code",
   "execution_count": null,
   "id": "6fc497dc",
   "metadata": {},
   "outputs": [],
   "source": [
    "for i in range (0,4,1):\n",
    "    plt.scatter(properties_lmsc_pred[:,i],properties_test_sc[:,i],s=4)\n",
    "    x3 = np.linspace(-2,2, 1000)\n",
    "    y3 = x3\n",
    "    plt.plot(x3, y3,c='r')\n",
    "    plt.show()\n",
    "    print('RSME',str(i),'=',np.sqrt(metrics.mean_squared_error(properties_lmsc_pred[:,i],properties_test_sc[:,i])))"
   ]
  },
  {
   "cell_type": "code",
   "execution_count": null,
   "id": "926722d2",
   "metadata": {},
   "outputs": [],
   "source": [
    "# Determining the model's accuracy\n",
    "mse_lm_sc = np.sqrt(metrics.mean_squared_error(properties_test_sc, properties_lmsc_pred))\n",
    "print('mean_squared_error = ' + str(round(mse_lm_sc, 2)) + '    Lower is better')\n"
   ]
  },
  {
   "cell_type": "markdown",
   "id": "7e717eda",
   "metadata": {},
   "source": [
    "# Multiple parameters"
   ]
  },
  {
   "cell_type": "code",
   "execution_count": null,
   "id": "a1873efc",
   "metadata": {},
   "outputs": [],
   "source": [
    "materials['ceq_sq']=np.power(materials.iloc[:,13],2)\n",
    "materials['mo_sq']=np.power(materials.iloc[:,8],2)\n",
    "materials['ni_sq']=np.power(materials.iloc[:,6],2)\n",
    "materials['mn_sq']=np.power(materials.iloc[:,3],2)\n",
    "materials['v_sq']=np.power(materials.iloc[:,10],2)\n",
    "materials['temp_sq']=np.power(materials.iloc[:,15],2)\n"
   ]
  },
  {
   "cell_type": "code",
   "execution_count": null,
   "id": "b23fef1e",
   "metadata": {},
   "outputs": [],
   "source": [
    "print(materials)"
   ]
  },
  {
   "cell_type": "code",
   "execution_count": null,
   "id": "7d61e7fc",
   "metadata": {},
   "outputs": [],
   "source": [
    "materials_train,materials_test,properties_train,properties_test=train_test_split(materials,properties, test_size=0.2, shuffle=True)"
   ]
  },
  {
   "cell_type": "code",
   "execution_count": null,
   "id": "d134b6b9",
   "metadata": {},
   "outputs": [],
   "source": [
    "# scaling\n",
    "sc_materials = StandardScaler()\n",
    "sc_materials.fit(materials_train)\n",
    "materials_train_sc = sc_materials.transform(materials_train)\n",
    "materials_test_sc = sc_materials.transform(materials_test)\n",
    "\n",
    "sc_properties = StandardScaler()\n",
    "sc_properties.fit(properties_train)\n",
    "properties_train_sc = sc_properties.transform(properties_train)\n",
    "properties_test_sc = sc_properties.transform(properties_test)"
   ]
  },
  {
   "cell_type": "code",
   "execution_count": null,
   "id": "678d52f9",
   "metadata": {},
   "outputs": [],
   "source": [
    "sc_lm=LinearRegression()"
   ]
  },
  {
   "cell_type": "code",
   "execution_count": null,
   "id": "40c9c538",
   "metadata": {},
   "outputs": [],
   "source": [
    "sc_lm.fit(materials_train_sc, properties_train_sc)\n",
    "properties_lmsc_pred = sc_lm.predict(materials_test_sc)"
   ]
  },
  {
   "cell_type": "code",
   "execution_count": null,
   "id": "b010dd01",
   "metadata": {},
   "outputs": [],
   "source": [
    "for i in range (0,4,1):\n",
    "    plt.scatter(properties_lmsc_pred[:,i],properties_test_sc[:,i],s=4)\n",
    "    x3 = np.linspace(-2,2,1000)\n",
    "    y3 = x3\n",
    "    plt.plot(x3, y3,c='r')\n",
    "    plt.show()\n",
    "    print('RSME',str(i),'=',np.sqrt(metrics.mean_squared_error(properties_lmsc_pred[:,i],properties_test_sc[:,i])))"
   ]
  },
  {
   "cell_type": "code",
   "execution_count": null,
   "id": "94a2718a",
   "metadata": {},
   "outputs": [],
   "source": [
    "# Determining the model's accuracy\n",
    "mse_lm_sc = np.sqrt(metrics.mean_squared_error(properties_test_sc, properties_lmsc_pred))\n",
    "print('mean_squared_error = ' + str(round(mse_lm_sc, 2)) + '    Lower is better')\n"
   ]
  },
  {
   "cell_type": "markdown",
   "id": "80703c46",
   "metadata": {},
   "source": [
    "## 2. Deep Neural Network"
   ]
  },
  {
   "cell_type": "code",
   "execution_count": null,
   "id": "9c2b6702",
   "metadata": {},
   "outputs": [],
   "source": [
    "## Neural Nets\n",
    "# Building the Neural Network\n",
    "\n",
    "model = Sequential()\n",
    "model.add(Dense(units = 15, kernel_initializer = 'normal', activation = 'tanh', input_dim = 15))\n",
    "model.add(Dense(units = 90, kernel_initializer = 'normal', activation = 'tanh'))\n",
    "model.add(Dense(units = 60, kernel_initializer = 'normal', activation = 'tanh'))\n",
    "model.add(Dense(units = 40, kernel_initializer = 'normal', activation = 'tanh'))\n",
    "model.add(Dense(units = 30, kernel_initializer = 'normal', activation = 'tanh'))\n",
    "model.add(Dense(units = 20, kernel_initializer = 'normal', activation = 'tanh'))\n",
    "model.add(Dense(units = 10, kernel_initializer = 'normal', activation = 'tanh'))\n",
    "model.add(Dense(units = 4, kernel_initializer = 'normal', activation = 'tanh'))\n",
    "\n",
    "model.compile(optimizer = 'rmsprop', loss = 'mean_squared_error', metrics = ['mean_squared_error'])"
   ]
  },
  {
   "cell_type": "code",
   "execution_count": null,
   "id": "4bacdbf3",
   "metadata": {},
   "outputs": [],
   "source": [
    "nn_fit = model.fit(materials_train_sc, properties_train_sc, batch_size = 100, shuffle=True, epochs = 5000)"
   ]
  },
  {
   "cell_type": "code",
   "execution_count": null,
   "id": "1a57d261",
   "metadata": {},
   "outputs": [],
   "source": [
    "properties_nn_pred = model.predict(materials_test_sc)"
   ]
  },
  {
   "cell_type": "code",
   "execution_count": null,
   "id": "5a4356c1",
   "metadata": {},
   "outputs": [],
   "source": [
    "print(properties_nn_pred)"
   ]
  },
  {
   "cell_type": "code",
   "execution_count": null,
   "id": "561a0b1c",
   "metadata": {},
   "outputs": [],
   "source": [
    "# Determining the model's accuracy\n",
    "mse_nn = metrics.mean_squared_error(properties_test_sc, properties_nn_pred)\n",
    "print('mean_squared_error = ' + str(round(mse_nn, 2)) + '    Lower is better')\n"
   ]
  },
  {
   "cell_type": "markdown",
   "id": "e422abce",
   "metadata": {},
   "source": [
    "## KNN "
   ]
  },
  {
   "cell_type": "code",
   "execution_count": null,
   "id": "8e22029f",
   "metadata": {},
   "outputs": [],
   "source": [
    "#Fitting of KNN Regressor with K=50\n",
    "knn=KNeighborsRegressor(n_neighbors=15)\n",
    "knn.fit(materials_train_sc, properties_train_sc)"
   ]
  },
  {
   "cell_type": "code",
   "execution_count": null,
   "id": "57c40a7d",
   "metadata": {},
   "outputs": [],
   "source": [
    "#prediction\n",
    "properties_knn_pred=knn.predict(materials_test_sc)"
   ]
  },
  {
   "cell_type": "code",
   "execution_count": null,
   "id": "344abfa3",
   "metadata": {},
   "outputs": [],
   "source": [
    "# Determining the model's accuracy\n",
    "mse_knn = np.sqrt(metrics.mean_squared_error(properties_test_sc, properties_knn_pred))\n",
    "print('mean_squared_error = ' + str(round(mse_knn, 2)) + '    Lower is better')"
   ]
  },
  {
   "cell_type": "code",
   "execution_count": null,
   "id": "9ed02cb9",
   "metadata": {},
   "outputs": [],
   "source": [
    "for i in range (1,200):\n",
    "    knn=KNeighborsRegressor(n_neighbors=i)\n",
    "    knn.fit(materials_train_sc, properties_train_sc)\n",
    "    #prediction\n",
    "    properties_knn_pred=knn.predict(materials_test_sc)\n",
    "    mse_knn = metrics.mean_squared_error(properties_test_sc, properties_knn_pred)\n",
    "    plt.scatter(i,mse_knn,c='r',s=10)\n",
    "    plt.ylabel('RSME')\n",
    "    plt.xlabel('K')\n",
    "    "
   ]
  },
  {
   "cell_type": "markdown",
   "id": "59669f51",
   "metadata": {},
   "source": [
    "## Random Forest "
   ]
  },
  {
   "cell_type": "code",
   "execution_count": null,
   "id": "dd925c22",
   "metadata": {},
   "outputs": [],
   "source": [
    "#Random Forest \n",
    "rfr = RandomForestRegressor(n_estimators=1000, criterion='mse')\n",
    "rfr.fit(materials_train_sc, properties_train_sc)\n",
    "properties_rf_pred = rfr.predict(materials_test_sc)"
   ]
  },
  {
   "cell_type": "code",
   "execution_count": null,
   "id": "51a7047b",
   "metadata": {},
   "outputs": [],
   "source": [
    "#Fitting Accuracy \n",
    "print('RMSE:', np.sqrt(metrics.mean_squared_error(properties_test_sc,properties_rf_pred)))"
   ]
  },
  {
   "cell_type": "code",
   "execution_count": null,
   "id": "59bc62d3",
   "metadata": {},
   "outputs": [],
   "source": [
    "m=[y_lmsc_pred,y_knn_pred,y_nn_pred,y_rf_pred]\n",
    "for i in m:\n",
    "        mse=mean_squared_error(i,y_test_sc)\n",
    "        \n",
    "      "
   ]
  },
  {
   "cell_type": "code",
   "execution_count": null,
   "id": "503ab1ca",
   "metadata": {},
   "outputs": [],
   "source": [
    "#from the data above in linear regression, saw that Elongation values and predicted values are not in sync and the relation\n",
    "# seems to be a square type. i.e., pred^2 == test_vals. so applying sqrt(test_vals) only for elongation and recomputing\n",
    "# the results. here, doing only linear regression and neural nets for this\n",
    "new_properties = properties"
   ]
  },
  {
   "cell_type": "code",
   "execution_count": null,
   "id": "53a73364",
   "metadata": {},
   "outputs": [],
   "source": [
    "properties[' sq_temperature'] = np.power(properties['Temperature(°C) '],0.5)"
   ]
  },
  {
   "cell_type": "code",
   "execution_count": null,
   "id": "252fa167",
   "metadata": {},
   "outputs": [],
   "source": [
    "materials_train,materials_test,properties_train,properties_test=train_test_split(materials,new_properties, test_size=0.2, shuffle=True)"
   ]
  },
  {
   "cell_type": "code",
   "execution_count": null,
   "id": "c04ae078",
   "metadata": {},
   "outputs": [],
   "source": [
    "#lm model\n",
    "lm=LinearRegression()\n",
    "lm.fit(materials_train,properties_train)\n",
    "properties_lm_pred=lm.predict(materials_test)\n",
    "print('RMSE:', np.sqrt(metrics.mean_squared_error(properties_test,properties_lm_pred)))"
   ]
  },
  {
   "cell_type": "code",
   "execution_count": null,
   "id": "9735553c",
   "metadata": {},
   "outputs": [],
   "source": [
    "# scaling\n",
    "sc_materials = StandardScaler()\n",
    "sc_materials.fit(materials_train)\n",
    "materials_train_sc = sc_materials.transform(materials_train)\n",
    "materials_test_sc = sc_materials.transform(materials_test)\n",
    "\n",
    "sc_properties = StandardScaler()\n",
    "sc_properties.fit(properties_train)\n",
    "properties_train_sc = sc_properties.transform(properties_train)\n",
    "properties_test_sc = sc_properties.transform(properties_test)"
   ]
  },
  {
   "cell_type": "code",
   "execution_count": null,
   "id": "388dcd9f",
   "metadata": {},
   "outputs": [],
   "source": [
    "sc_lm=LinearRegression()\n",
    "sc_lm.fit(materials_train_sc, properties_train_sc)\n",
    "properties_lmsc_pred = sc_lm.predict(materials_test_sc)\n",
    "mse_lm_sc = metrics.mean_squared_error(properties_test_sc, properties_lmsc_pred)\n",
    "print('mean_squared_error = ' + str(round(mse_lm_sc, 2)) + '    Lower is better')"
   ]
  },
  {
   "cell_type": "code",
   "execution_count": null,
   "id": "d6ccf616",
   "metadata": {},
   "outputs": [],
   "source": [
    "nn_fit = model.fit(materials_train_sc, properties_train_sc, batch_size = 100, shuffle=True, epochs = 5000)\n",
    "properties_nn_pred = model.predict(materials_test_sc)\n",
    "mse_nn = metrics.mean_squared_error(properties_test_sc, properties_nn_pred)\n",
    "print('mean_squared_error = ' + str(round(mse_nn, 2)) + '    Lower is better')"
   ]
  },
  {
   "cell_type": "code",
   "execution_count": null,
   "id": "851f1b14",
   "metadata": {},
   "outputs": [],
   "source": [
    "print('mean_squared_error = ' + str(round(mse_nn, 2)) + '    Lower is better')"
   ]
  }
 ],
 "metadata": {
  "kernelspec": {
   "display_name": "Python 3 (ipykernel)",
   "language": "python",
   "name": "python3"
  },
  "language_info": {
   "codemirror_mode": {
    "name": "ipython",
    "version": 3
   },
   "file_extension": ".py",
   "mimetype": "text/x-python",
   "name": "python",
   "nbconvert_exporter": "python",
   "pygments_lexer": "ipython3",
   "version": "3.9.13"
  }
 },
 "nbformat": 4,
 "nbformat_minor": 5
}
